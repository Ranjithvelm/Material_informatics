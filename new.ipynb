{
 "cells": [
  {
   "attachments": {},
   "cell_type": "markdown",
   "metadata": {},
   "source": [
    "1. Why polynomial regression model has better accuracy than that of linear regression model?\n",
    "- Since polynomial regression model involves non linear higher order terms, it can fit the data more precisely with less errors."
   ]
  },
  {
   "attachments": {},
   "cell_type": "markdown",
   "metadata": {},
   "source": [
    "2. Regularization seems to decrease model accuracy. Can you spot someway of improving performance of the regularized model?\n",
    " - Hyperparameter optimisation is a method of introducing a parameter lambda and changing the values to find the optimised value for lowest error\n",
    " - Feature selection/removal process is to select the features that are the most contributing to the fit i.e, removal of ouliers. example: recursive feature elimination"
   ]
  },
  {
   "attachments": {},
   "cell_type": "markdown",
   "metadata": {},
   "source": [
    "3. Try making new polynomial type features to improve polynomial regression model accuracy. Explain why addition of new features could improve model performance. \n",
    "- Including new features will add more higher order terms to the model which could fit the model more precisely and flexibly with much lower errors.\n"
   ]
  },
  {
   "attachments": {},
   "cell_type": "markdown",
   "metadata": {},
   "source": [
    "1. Why normalization is done only on the train set during cross-validation?\n",
    "- If the normalization is done for the whole set, the parameters found would be representative of the whole set. Therefore the errors will be more once the model is used for unseen data. Therefore it is done only for training set and then with test set during model testing then employed."
   ]
  },
  {
   "attachments": {},
   "cell_type": "markdown",
   "metadata": {},
   "source": [
    "2. Is the optimized coefficient value same for the pristine and the normalized data? Why or why not?\n",
    "- No the cofficient value are not the same but normalised coefficient can be rescaled to original conditions using the parameters.\n",
    "- Because the range of values will be different for normalised data which is different from the original data. "
   ]
  },
  {
   "cell_type": "code",
   "execution_count": null,
   "metadata": {
    "vscode": {
     "languageId": "plaintext"
    }
   },
   "outputs": [],
   "source": []
  },
  {
   "attachments": {},
   "cell_type": "markdown",
   "metadata": {},
   "source": [
    "errors[['rmse_val','r2_val']].mean()\n",
    "\n",
    "errors_pr[['rmse_val','r2_val']].mean()"
   ]
  }
 ],
 "metadata": {
  "language_info": {
   "name": "python"
  },
  "orig_nbformat": 4
 },
 "nbformat": 4,
 "nbformat_minor": 2
}
